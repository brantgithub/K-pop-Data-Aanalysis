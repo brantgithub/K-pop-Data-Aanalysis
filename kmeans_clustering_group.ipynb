{
 "cells": [
  {
   "cell_type": "markdown",
   "metadata": {},
   "source": [
    "### 1. Create dataset"
   ]
  },
  {
   "cell_type": "code",
   "execution_count": 5,
   "metadata": {},
   "outputs": [],
   "source": [
    "# import packages\n",
    "import pandas as pd\n",
    "import numpy as np"
   ]
  },
  {
   "cell_type": "code",
   "execution_count": 384,
   "metadata": {},
   "outputs": [],
   "source": [
    "# read csvs\n",
    "idols = pd.read_csv(\"C:/Users/brant/Google Drive/extra study/ Kpop Data Analysis/K-pop 1992-2020/kpop_idols.csv\")\n",
    "boy_groups = pd.read_csv(\"C:/Users/brant/Google Drive/extra study/ Kpop Data Analysis/K-pop 1992-2020/kpop_boy_groups.csv\")\n",
    "girl_groups = pd.read_csv(\"C:/Users/brant/Google Drive/extra study/ Kpop Data Analysis/K-pop 1992-2020/kpop_girl_groups.csv\")\n",
    "mv = pd.read_csv(\"C:/Users/brant/Google Drive/extra study/ Kpop Data Analysis/K-pop 1992-2020/kpop_music_videos.csv\")"
   ]
  },
  {
   "cell_type": "code",
   "execution_count": 385,
   "metadata": {},
   "outputs": [],
   "source": [
    "# join files\n",
    "groups = pd.concat([boy_groups,girl_groups])\n",
    "idols_groups = pd.merge(idols, groups,left_on=\"Group\",right_on=\"Name\",how=\"inner\")\n",
    "idols_groups_songs = pd.merge(idols_groups, mv,left_on=\"Group\",right_on=\"Artist\",how=\"inner\")"
   ]
  },
  {
   "cell_type": "code",
   "execution_count": 386,
   "metadata": {},
   "outputs": [],
   "source": [
    "idols_groups_songs = idols_groups_songs[[\"Stage Name\",\"Date of Birth\",\"Group\",\"Country\",\"Debut\",\"Members\",\"Song Name\"]]"
   ]
  },
  {
   "cell_type": "code",
   "execution_count": 387,
   "metadata": {},
   "outputs": [],
   "source": [
    "# get debut age\n",
    "\n",
    "idols_groups_songs[\"Debut\"] = pd.to_datetime(idols_groups_songs[\"Debut\"])\n",
    "idols_groups_songs[\"Date of Birth\"] = pd.to_datetime(idols_groups_songs[\"Date of Birth\"])\n",
    "idols_groups_songs[\"Debut Age\"] = idols_groups_songs[\"Debut\"] - idols_groups_songs[\"Date of Birth\"]\n",
    "\n",
    "idols_groups_songs[\"Debut Age\"] = idols_groups_songs[\"Debut Age\"].dt.days/365"
   ]
  },
  {
   "cell_type": "code",
   "execution_count": 388,
   "metadata": {},
   "outputs": [],
   "source": [
    "# group by groups\n",
    "\n",
    "# get # of members, # of songs and debut age\n",
    "group_metric = idols_groups_songs.groupby('Group',as_index=False).agg({\n",
    "    'Stage Name':'nunique','Song Name':'nunique','Debut Age':'mean'})"
   ]
  },
  {
   "cell_type": "code",
   "execution_count": 389,
   "metadata": {},
   "outputs": [],
   "source": [
    "# get country%\n",
    "table = pd.pivot_table(idols_groups_songs, values='Stage Name', index='Group',\n",
    "                    columns=['Country'], aggfunc='nunique', fill_value=0)\n",
    "table[\"Total\"] = table.sum(axis=1)\n",
    "table[\"Foreigner\"] = 1-table[\"South Korea\"]/table[\"Total\"]\n",
    "\n",
    "group_country = table['Foreigner'].reset_index()"
   ]
  },
  {
   "cell_type": "code",
   "execution_count": 390,
   "metadata": {},
   "outputs": [],
   "source": [
    "# join group metric and country%\n",
    "\n",
    "group_metric = pd.merge(group_metric,group_country,on=\"Group\")"
   ]
  },
  {
   "cell_type": "code",
   "execution_count": 391,
   "metadata": {},
   "outputs": [],
   "source": [
    "# change column names\n",
    "\n",
    "group_metric.columns=['Group','Members','Songs','Debut Age','International']"
   ]
  },
  {
   "cell_type": "code",
   "execution_count": 392,
   "metadata": {},
   "outputs": [],
   "source": [
    "group_metric = group_metric.set_index('Group')"
   ]
  },
  {
   "cell_type": "code",
   "execution_count": 393,
   "metadata": {},
   "outputs": [
    {
     "data": {
      "text/html": [
       "<div>\n",
       "<style scoped>\n",
       "    .dataframe tbody tr th:only-of-type {\n",
       "        vertical-align: middle;\n",
       "    }\n",
       "\n",
       "    .dataframe tbody tr th {\n",
       "        vertical-align: top;\n",
       "    }\n",
       "\n",
       "    .dataframe thead th {\n",
       "        text-align: right;\n",
       "    }\n",
       "</style>\n",
       "<table border=\"1\" class=\"dataframe\">\n",
       "  <thead>\n",
       "    <tr style=\"text-align: right;\">\n",
       "      <th></th>\n",
       "      <th>Members</th>\n",
       "      <th>Songs</th>\n",
       "      <th>Debut Age</th>\n",
       "      <th>International</th>\n",
       "    </tr>\n",
       "    <tr>\n",
       "      <th>Group</th>\n",
       "      <th></th>\n",
       "      <th></th>\n",
       "      <th></th>\n",
       "      <th></th>\n",
       "    </tr>\n",
       "  </thead>\n",
       "  <tbody>\n",
       "    <tr>\n",
       "      <th>T-ara</th>\n",
       "      <td>6</td>\n",
       "      <td>38</td>\n",
       "      <td>20.802740</td>\n",
       "      <td>0.000000</td>\n",
       "    </tr>\n",
       "    <tr>\n",
       "      <th>ONF</th>\n",
       "      <td>6</td>\n",
       "      <td>5</td>\n",
       "      <td>21.857534</td>\n",
       "      <td>0.166667</td>\n",
       "    </tr>\n",
       "  </tbody>\n",
       "</table>\n",
       "</div>"
      ],
      "text/plain": [
       "       Members  Songs  Debut Age  International\n",
       "Group                                          \n",
       "T-ara        6     38  20.802740       0.000000\n",
       "ONF          6      5  21.857534       0.166667"
      ]
     },
     "execution_count": 393,
     "metadata": {},
     "output_type": "execute_result"
    }
   ],
   "source": [
    "group_metric.sample(2)"
   ]
  },
  {
   "cell_type": "markdown",
   "metadata": {},
   "source": [
    "### 2. Normalize variables"
   ]
  },
  {
   "cell_type": "code",
   "execution_count": 394,
   "metadata": {},
   "outputs": [],
   "source": [
    "group_metric_normalized = group_metric.copy()"
   ]
  },
  {
   "cell_type": "code",
   "execution_count": 395,
   "metadata": {},
   "outputs": [
    {
     "name": "stdout",
     "output_type": "stream",
     "text": [
      "Members         -0.0\n",
      "Songs           -0.0\n",
      "Debut Age        0.0\n",
      "International   -0.0\n",
      "dtype: float64\n",
      "Members          1.0\n",
      "Songs            1.0\n",
      "Debut Age        1.0\n",
      "International    1.0\n",
      "dtype: float64\n"
     ]
    }
   ],
   "source": [
    "# Import library\n",
    "from sklearn.preprocessing import StandardScaler\n",
    "\n",
    "#Normalize values\n",
    "x = group_metric_normalized.values #returns a numpy array\n",
    "scaler = StandardScaler()\n",
    "x_scaled = scaler.fit_transform(x)\n",
    "\n",
    "# assign normalized values to group metric\n",
    "group_metric_normalized.loc[:,:] = x_scaled \n",
    "\n",
    "# Assert that it has mean 0 and variance 1\n",
    "print(group_metric_normalized.mean(axis = 0).round(2)) # [0. -0. 0.]\n",
    "print(group_metric_normalized.std(axis = 0).round(2)) # [1. 1. 1.]"
   ]
  },
  {
   "cell_type": "markdown",
   "metadata": {},
   "source": [
    "### 2. Select a K"
   ]
  },
  {
   "cell_type": "code",
   "execution_count": 396,
   "metadata": {},
   "outputs": [
    {
     "data": {
      "image/png": "[encoded data removed]",
      "text/plain": [
       "<Figure size 432x288 with 1 Axes>"
      ]
     },
     "metadata": {
      "needs_background": "light"
     },
     "output_type": "display_data"
    }
   ],
   "source": [
    "import matplotlib.pyplot as plt\n",
    "\n",
    "sse = {}\n",
    "for k in range(1, 11):\n",
    "    kmeans = KMeans(n_clusters=k)\n",
    "    kmeans.fit(group_metric_normalized)\n",
    "    sse[k] = kmeans.inertia_ # SSE to closest cluster centroid\n",
    "plt.title('The Elbow Method')\n",
    "plt.xlabel('k')\n",
    "plt.ylabel('SSE')\n",
    "sns.pointplot(x=list(sse.keys()), y=list(sse.values()))\n",
    "plt.show()"
   ]
  },
  {
   "cell_type": "code",
   "execution_count": 397,
   "metadata": {},
   "outputs": [],
   "source": [
    "# K = 4"
   ]
  },
  {
   "cell_type": "markdown",
   "metadata": {},
   "source": [
    "### 2. Fit the Model"
   ]
  },
  {
   "cell_type": "code",
   "execution_count": 398,
   "metadata": {},
   "outputs": [],
   "source": [
    "# fit the model\n",
    "\n",
    "model = KMeans(n_clusters=4)\n",
    "model.fit(group_metric_normalized)\n",
    "group_metric[\"Cluster\"] = model.labels_"
   ]
  },
  {
   "cell_type": "code",
   "execution_count": 399,
   "metadata": {},
   "outputs": [
    {
     "data": {
      "text/html": [
       "<div>\n",
       "<style scoped>\n",
       "    .dataframe tbody tr th:only-of-type {\n",
       "        vertical-align: middle;\n",
       "    }\n",
       "\n",
       "    .dataframe tbody tr th {\n",
       "        vertical-align: top;\n",
       "    }\n",
       "\n",
       "    .dataframe thead th {\n",
       "        text-align: right;\n",
       "    }\n",
       "</style>\n",
       "<table border=\"1\" class=\"dataframe\">\n",
       "  <thead>\n",
       "    <tr style=\"text-align: right;\">\n",
       "      <th></th>\n",
       "      <th>Members</th>\n",
       "      <th>Songs</th>\n",
       "      <th>Debut Age</th>\n",
       "      <th>International</th>\n",
       "    </tr>\n",
       "    <tr>\n",
       "      <th>Cluster</th>\n",
       "      <th></th>\n",
       "      <th></th>\n",
       "      <th></th>\n",
       "      <th></th>\n",
       "    </tr>\n",
       "  </thead>\n",
       "  <tbody>\n",
       "    <tr>\n",
       "      <th>0</th>\n",
       "      <td>5.58</td>\n",
       "      <td>28.00</td>\n",
       "      <td>18.70</td>\n",
       "      <td>0.02</td>\n",
       "    </tr>\n",
       "    <tr>\n",
       "      <th>1</th>\n",
       "      <td>4.62</td>\n",
       "      <td>7.06</td>\n",
       "      <td>21.15</td>\n",
       "      <td>0.03</td>\n",
       "    </tr>\n",
       "    <tr>\n",
       "      <th>2</th>\n",
       "      <td>5.00</td>\n",
       "      <td>8.25</td>\n",
       "      <td>20.01</td>\n",
       "      <td>0.53</td>\n",
       "    </tr>\n",
       "    <tr>\n",
       "      <th>3</th>\n",
       "      <td>7.04</td>\n",
       "      <td>7.69</td>\n",
       "      <td>18.41</td>\n",
       "      <td>0.05</td>\n",
       "    </tr>\n",
       "  </tbody>\n",
       "</table>\n",
       "</div>"
      ],
      "text/plain": [
       "         Members  Songs  Debut Age  International\n",
       "Cluster                                          \n",
       "0           5.58  28.00      18.70           0.02\n",
       "1           4.62   7.06      21.15           0.03\n",
       "2           5.00   8.25      20.01           0.53\n",
       "3           7.04   7.69      18.41           0.05"
      ]
     },
     "execution_count": 399,
     "metadata": {},
     "output_type": "execute_result"
    }
   ],
   "source": [
    "# get the stats of each cluster\n",
    "\n",
    "group_metric.groupby('Cluster').agg({\n",
    "    'Members':'mean',\n",
    "    'Songs':'mean',\n",
    "    'Debut Age':'mean',\n",
    "    'International':'mean'}).round(2)"
   ]
  },
  {
   "cell_type": "markdown",
   "metadata": {},
   "source": [
    "### 3. Visualize clusters"
   ]
  },
  {
   "cell_type": "code",
   "execution_count": 401,
   "metadata": {},
   "outputs": [
    {
     "data": {
      "text/html": [
       "<div>\n",
       "<style scoped>\n",
       "    .dataframe tbody tr th:only-of-type {\n",
       "        vertical-align: middle;\n",
       "    }\n",
       "\n",
       "    .dataframe tbody tr th {\n",
       "        vertical-align: top;\n",
       "    }\n",
       "\n",
       "    .dataframe thead th {\n",
       "        text-align: right;\n",
       "    }\n",
       "</style>\n",
       "<table border=\"1\" class=\"dataframe\">\n",
       "  <thead>\n",
       "    <tr style=\"text-align: right;\">\n",
       "      <th></th>\n",
       "      <th>Group</th>\n",
       "      <th>Members</th>\n",
       "      <th>Songs</th>\n",
       "      <th>Debut Age</th>\n",
       "      <th>International</th>\n",
       "    </tr>\n",
       "  </thead>\n",
       "  <tbody>\n",
       "    <tr>\n",
       "      <th>0</th>\n",
       "      <td>(G)I-DLE</td>\n",
       "      <td>0.113185</td>\n",
       "      <td>-0.836704</td>\n",
       "      <td>0.108551</td>\n",
       "      <td>2.946892</td>\n",
       "    </tr>\n",
       "    <tr>\n",
       "      <th>1</th>\n",
       "      <td>100%</td>\n",
       "      <td>-0.339555</td>\n",
       "      <td>0.661871</td>\n",
       "      <td>1.028621</td>\n",
       "      <td>-0.439967</td>\n",
       "    </tr>\n",
       "    <tr>\n",
       "      <th>2</th>\n",
       "      <td>14U</td>\n",
       "      <td>3.735106</td>\n",
       "      <td>-0.836704</td>\n",
       "      <td>0.243933</td>\n",
       "      <td>0.043870</td>\n",
       "    </tr>\n",
       "    <tr>\n",
       "      <th>3</th>\n",
       "      <td>15&amp;</td>\n",
       "      <td>-1.697775</td>\n",
       "      <td>-0.836704</td>\n",
       "      <td>-2.351652</td>\n",
       "      <td>-0.439967</td>\n",
       "    </tr>\n",
       "    <tr>\n",
       "      <th>4</th>\n",
       "      <td>1the9</td>\n",
       "      <td>1.471405</td>\n",
       "      <td>-1.036514</td>\n",
       "      <td>-1.091503</td>\n",
       "      <td>-0.439967</td>\n",
       "    </tr>\n",
       "    <tr>\n",
       "      <th>...</th>\n",
       "      <td>...</td>\n",
       "      <td>...</td>\n",
       "      <td>...</td>\n",
       "      <td>...</td>\n",
       "      <td>...</td>\n",
       "    </tr>\n",
       "    <tr>\n",
       "      <th>131</th>\n",
       "      <td>ZE:A</td>\n",
       "      <td>1.471405</td>\n",
       "      <td>0.362156</td>\n",
       "      <td>0.320590</td>\n",
       "      <td>-0.439967</td>\n",
       "    </tr>\n",
       "    <tr>\n",
       "      <th>132</th>\n",
       "      <td>f(x)</td>\n",
       "      <td>-0.792295</td>\n",
       "      <td>-0.037464</td>\n",
       "      <td>-1.078293</td>\n",
       "      <td>2.946892</td>\n",
       "    </tr>\n",
       "    <tr>\n",
       "      <th>133</th>\n",
       "      <td>fromis_9</td>\n",
       "      <td>1.471405</td>\n",
       "      <td>-0.636894</td>\n",
       "      <td>-0.451719</td>\n",
       "      <td>-0.439967</td>\n",
       "    </tr>\n",
       "    <tr>\n",
       "      <th>134</th>\n",
       "      <td>iKON</td>\n",
       "      <td>0.113185</td>\n",
       "      <td>0.462061</td>\n",
       "      <td>-0.055979</td>\n",
       "      <td>-0.439967</td>\n",
       "    </tr>\n",
       "    <tr>\n",
       "      <th>135</th>\n",
       "      <td>miss A</td>\n",
       "      <td>-0.792295</td>\n",
       "      <td>-0.237274</td>\n",
       "      <td>0.151934</td>\n",
       "      <td>2.946892</td>\n",
       "    </tr>\n",
       "  </tbody>\n",
       "</table>\n",
       "<p>136 rows × 5 columns</p>\n",
       "</div>"
      ],
      "text/plain": [
       "        Group   Members     Songs  Debut Age  International\n",
       "0    (G)I-DLE  0.113185 -0.836704   0.108551       2.946892\n",
       "1        100% -0.339555  0.661871   1.028621      -0.439967\n",
       "2         14U  3.735106 -0.836704   0.243933       0.043870\n",
       "3         15& -1.697775 -0.836704  -2.351652      -0.439967\n",
       "4       1the9  1.471405 -1.036514  -1.091503      -0.439967\n",
       "..        ...       ...       ...        ...            ...\n",
       "131      ZE:A  1.471405  0.362156   0.320590      -0.439967\n",
       "132      f(x) -0.792295 -0.037464  -1.078293       2.946892\n",
       "133  fromis_9  1.471405 -0.636894  -0.451719      -0.439967\n",
       "134      iKON  0.113185  0.462061  -0.055979      -0.439967\n",
       "135    miss A -0.792295 -0.237274   0.151934       2.946892\n",
       "\n",
       "[136 rows x 5 columns]"
      ]
     },
     "execution_count": 401,
     "metadata": {},
     "output_type": "execute_result"
    }
   ],
   "source": [
    "# Organize the dataframe\n",
    "group_metric_normalized.reset_index()"
   ]
  },
  {
   "cell_type": "code",
   "execution_count": 402,
   "metadata": {},
   "outputs": [],
   "source": [
    "group_metric_normalized[\"Cluster\"] = model.labels_"
   ]
  },
  {
   "cell_type": "code",
   "execution_count": 403,
   "metadata": {},
   "outputs": [
    {
     "data": {
      "text/plain": [
       "<matplotlib.axes._subplots.AxesSubplot at 0x2a7e1900d88>"
      ]
     },
     "execution_count": 403,
     "metadata": {},
     "output_type": "execute_result"
    },
    {
     "data": {
      "image/png": "[encoded data removed]",
      "text/plain": [
       "<Figure size 432x288 with 1 Axes>"
      ]
     },
     "metadata": {
      "needs_background": "light"
     },
     "output_type": "display_data"
    }
   ],
   "source": [
    "# Melt The Data\n",
    "group_metric_normalized_melt = pd.melt(group_metric_normalized.reset_index(),\n",
    "                      id_vars=['Group', 'Cluster'],\n",
    "                      value_vars=['Members','Songs','Debut Age','International'],\n",
    "                      var_name='Attribute',\n",
    "                      value_name='Value')\n",
    "group_metric_normalized_melt.head()\n",
    "\n",
    "# Visualize it\n",
    "sns.lineplot('Attribute', 'Value', hue='Cluster', data=group_metric_normalized_melt)"
   ]
  },
  {
   "cell_type": "markdown",
   "metadata": {},
   "source": [
    "### 4. PCA"
   ]
  },
  {
   "cell_type": "code",
   "execution_count": 404,
   "metadata": {},
   "outputs": [],
   "source": [
    "from sklearn.decomposition import PCA "
   ]
  },
  {
   "cell_type": "code",
   "execution_count": 405,
   "metadata": {},
   "outputs": [],
   "source": [
    "pca = PCA(n_components=2)"
   ]
  },
  {
   "cell_type": "code",
   "execution_count": 407,
   "metadata": {},
   "outputs": [],
   "source": [
    "group_metric_normalized = group_metric_normalized[['Members','Songs','Debut Age','International']]"
   ]
  },
  {
   "cell_type": "code",
   "execution_count": 408,
   "metadata": {},
   "outputs": [],
   "source": [
    "group_metric_normalized[\"pc-x\"] = pca.fit_transform(group_metric_normalized)[:,0]\n",
    "group_metric_normalized[\"pc-y\"] = pca.fit_transform(group_metric_normalized)[:,1]"
   ]
  },
  {
   "cell_type": "code",
   "execution_count": 409,
   "metadata": {},
   "outputs": [
    {
     "data": {
      "text/html": [
       "<div>\n",
       "<style scoped>\n",
       "    .dataframe tbody tr th:only-of-type {\n",
       "        vertical-align: middle;\n",
       "    }\n",
       "\n",
       "    .dataframe tbody tr th {\n",
       "        vertical-align: top;\n",
       "    }\n",
       "\n",
       "    .dataframe thead th {\n",
       "        text-align: right;\n",
       "    }\n",
       "</style>\n",
       "<table border=\"1\" class=\"dataframe\">\n",
       "  <thead>\n",
       "    <tr style=\"text-align: right;\">\n",
       "      <th></th>\n",
       "      <th>Members</th>\n",
       "      <th>Songs</th>\n",
       "      <th>Debut Age</th>\n",
       "      <th>International</th>\n",
       "      <th>pc-x</th>\n",
       "      <th>pc-y</th>\n",
       "    </tr>\n",
       "    <tr>\n",
       "      <th>Group</th>\n",
       "      <th></th>\n",
       "      <th></th>\n",
       "      <th></th>\n",
       "      <th></th>\n",
       "      <th></th>\n",
       "      <th></th>\n",
       "    </tr>\n",
       "  </thead>\n",
       "  <tbody>\n",
       "    <tr>\n",
       "      <th>(G)I-DLE</th>\n",
       "      <td>0.113185</td>\n",
       "      <td>-0.836704</td>\n",
       "      <td>0.108551</td>\n",
       "      <td>2.946892</td>\n",
       "      <td>1.605503</td>\n",
       "      <td>1.970394</td>\n",
       "    </tr>\n",
       "    <tr>\n",
       "      <th>100%</th>\n",
       "      <td>-0.339555</td>\n",
       "      <td>0.661871</td>\n",
       "      <td>1.028621</td>\n",
       "      <td>-0.439967</td>\n",
       "      <td>0.214052</td>\n",
       "      <td>-0.936356</td>\n",
       "    </tr>\n",
       "    <tr>\n",
       "      <th>14U</th>\n",
       "      <td>3.735106</td>\n",
       "      <td>-0.836704</td>\n",
       "      <td>0.243933</td>\n",
       "      <td>0.043870</td>\n",
       "      <td>-0.416274</td>\n",
       "      <td>2.936083</td>\n",
       "    </tr>\n",
       "    <tr>\n",
       "      <th>15&amp;</th>\n",
       "      <td>-1.697775</td>\n",
       "      <td>-0.836704</td>\n",
       "      <td>-2.351652</td>\n",
       "      <td>-0.439967</td>\n",
       "      <td>-0.694409</td>\n",
       "      <td>-0.685582</td>\n",
       "    </tr>\n",
       "    <tr>\n",
       "      <th>1the9</th>\n",
       "      <td>1.471405</td>\n",
       "      <td>-1.036514</td>\n",
       "      <td>-1.091503</td>\n",
       "      <td>-0.439967</td>\n",
       "      <td>-0.680178</td>\n",
       "      <td>1.384123</td>\n",
       "    </tr>\n",
       "    <tr>\n",
       "      <th>...</th>\n",
       "      <td>...</td>\n",
       "      <td>...</td>\n",
       "      <td>...</td>\n",
       "      <td>...</td>\n",
       "      <td>...</td>\n",
       "      <td>...</td>\n",
       "    </tr>\n",
       "    <tr>\n",
       "      <th>ZE:A</th>\n",
       "      <td>1.471405</td>\n",
       "      <td>0.362156</td>\n",
       "      <td>0.320590</td>\n",
       "      <td>-0.439967</td>\n",
       "      <td>-0.597482</td>\n",
       "      <td>0.647666</td>\n",
       "    </tr>\n",
       "    <tr>\n",
       "      <th>f(x)</th>\n",
       "      <td>-0.792295</td>\n",
       "      <td>-0.037464</td>\n",
       "      <td>-1.078293</td>\n",
       "      <td>2.946892</td>\n",
       "      <td>0.618101</td>\n",
       "      <td>1.373964</td>\n",
       "    </tr>\n",
       "    <tr>\n",
       "      <th>fromis_9</th>\n",
       "      <td>1.471405</td>\n",
       "      <td>-0.636894</td>\n",
       "      <td>-0.451719</td>\n",
       "      <td>-0.439967</td>\n",
       "      <td>-0.502522</td>\n",
       "      <td>1.115873</td>\n",
       "    </tr>\n",
       "    <tr>\n",
       "      <th>iKON</th>\n",
       "      <td>0.113185</td>\n",
       "      <td>0.462061</td>\n",
       "      <td>-0.055979</td>\n",
       "      <td>-0.439967</td>\n",
       "      <td>-0.505570</td>\n",
       "      <td>-0.283349</td>\n",
       "    </tr>\n",
       "    <tr>\n",
       "      <th>miss A</th>\n",
       "      <td>-0.792295</td>\n",
       "      <td>-0.237274</td>\n",
       "      <td>0.151934</td>\n",
       "      <td>2.946892</td>\n",
       "      <td>1.539571</td>\n",
       "      <td>1.128753</td>\n",
       "    </tr>\n",
       "  </tbody>\n",
       "</table>\n",
       "<p>136 rows × 6 columns</p>\n",
       "</div>"
      ],
      "text/plain": [
       "           Members     Songs  Debut Age  International      pc-x      pc-y\n",
       "Group                                                                     \n",
       "(G)I-DLE  0.113185 -0.836704   0.108551       2.946892  1.605503  1.970394\n",
       "100%     -0.339555  0.661871   1.028621      -0.439967  0.214052 -0.936356\n",
       "14U       3.735106 -0.836704   0.243933       0.043870 -0.416274  2.936083\n",
       "15&      -1.697775 -0.836704  -2.351652      -0.439967 -0.694409 -0.685582\n",
       "1the9     1.471405 -1.036514  -1.091503      -0.439967 -0.680178  1.384123\n",
       "...            ...       ...        ...            ...       ...       ...\n",
       "ZE:A      1.471405  0.362156   0.320590      -0.439967 -0.597482  0.647666\n",
       "f(x)     -0.792295 -0.037464  -1.078293       2.946892  0.618101  1.373964\n",
       "fromis_9  1.471405 -0.636894  -0.451719      -0.439967 -0.502522  1.115873\n",
       "iKON      0.113185  0.462061  -0.055979      -0.439967 -0.505570 -0.283349\n",
       "miss A   -0.792295 -0.237274   0.151934       2.946892  1.539571  1.128753\n",
       "\n",
       "[136 rows x 6 columns]"
      ]
     },
     "execution_count": 409,
     "metadata": {},
     "output_type": "execute_result"
    }
   ],
   "source": [
    "group_metric_normalized"
   ]
  },
  {
   "cell_type": "markdown",
   "metadata": {},
   "source": [
    "### 5. Export Output"
   ]
  },
  {
   "cell_type": "code",
   "execution_count": 410,
   "metadata": {},
   "outputs": [],
   "source": [
    "group_cluster = pd.merge(group_metric.reset_index(),group_metric_normalized.reset_index(),on=\"Group\")"
   ]
  },
  {
   "cell_type": "code",
   "execution_count": 411,
   "metadata": {},
   "outputs": [],
   "source": [
    "group_cluster = group_cluster[['Group', 'Members_x', 'Songs_x', 'Debut Age_x', 'International_x',\n",
    "       'Cluster','pc-x', 'pc-y']]"
   ]
  },
  {
   "cell_type": "code",
   "execution_count": 358,
   "metadata": {},
   "outputs": [],
   "source": [
    "group_cluster.columns = ['Group', 'Members', 'Songs', 'Debut Age', 'International',\n",
    "       'Cluster','pc-x', 'pc-y']"
   ]
  },
  {
   "cell_type": "code",
   "execution_count": 359,
   "metadata": {},
   "outputs": [
    {
     "data": {
      "text/html": [
       "<div>\n",
       "<style scoped>\n",
       "    .dataframe tbody tr th:only-of-type {\n",
       "        vertical-align: middle;\n",
       "    }\n",
       "\n",
       "    .dataframe tbody tr th {\n",
       "        vertical-align: top;\n",
       "    }\n",
       "\n",
       "    .dataframe thead th {\n",
       "        text-align: right;\n",
       "    }\n",
       "</style>\n",
       "<table border=\"1\" class=\"dataframe\">\n",
       "  <thead>\n",
       "    <tr style=\"text-align: right;\">\n",
       "      <th></th>\n",
       "      <th>Group</th>\n",
       "      <th>Members</th>\n",
       "      <th>Songs</th>\n",
       "      <th>Debut Age</th>\n",
       "      <th>International</th>\n",
       "      <th>Cluster</th>\n",
       "      <th>pc-x</th>\n",
       "      <th>pc-y</th>\n",
       "    </tr>\n",
       "  </thead>\n",
       "  <tbody>\n",
       "    <tr>\n",
       "      <th>110</th>\n",
       "      <td>Stray Kids</td>\n",
       "      <td>8</td>\n",
       "      <td>19</td>\n",
       "      <td>18.289384</td>\n",
       "      <td>0.125</td>\n",
       "      <td>1</td>\n",
       "      <td>-1.063841</td>\n",
       "      <td>0.937026</td>\n",
       "    </tr>\n",
       "    <tr>\n",
       "      <th>100</th>\n",
       "      <td>Rainbow</td>\n",
       "      <td>7</td>\n",
       "      <td>9</td>\n",
       "      <td>20.967123</td>\n",
       "      <td>0.000</td>\n",
       "      <td>3</td>\n",
       "      <td>0.316050</td>\n",
       "      <td>0.042901</td>\n",
       "    </tr>\n",
       "  </tbody>\n",
       "</table>\n",
       "</div>"
      ],
      "text/plain": [
       "          Group  Members  Songs  Debut Age  International  Cluster      pc-x  \\\n",
       "110  Stray Kids        8     19  18.289384          0.125        1 -1.063841   \n",
       "100     Rainbow        7      9  20.967123          0.000        3  0.316050   \n",
       "\n",
       "         pc-y  \n",
       "110  0.937026  \n",
       "100  0.042901  "
      ]
     },
     "execution_count": 359,
     "metadata": {},
     "output_type": "execute_result"
    }
   ],
   "source": [
    "group_cluster.sample(2)"
   ]
  },
  {
   "cell_type": "code",
   "execution_count": 360,
   "metadata": {},
   "outputs": [],
   "source": [
    "group_cluster.to_csv(\"C:/Users/brant/Google Drive/extra study/ Kpop Data Analysis/Untitled Folder/kpop_group_cluster.csv\")"
   ]
  },
  {
   "cell_type": "code",
   "execution_count": null,
   "metadata": {},
   "outputs": [],
   "source": []
  }
 ],
 "metadata": {
  "kernelspec": {
   "display_name": "Python 3",
   "language": "python",
   "name": "python3"
  },
  "language_info": {
   "codemirror_mode": {
    "name": "ipython",
    "version": 3
   },
   "file_extension": ".py",
   "mimetype": "text/x-python",
   "name": "python",
   "nbconvert_exporter": "python",
   "pygments_lexer": "ipython3",
   "version": "3.7.6"
  }
 },
 "nbformat": 4,
 "nbformat_minor": 4
}
